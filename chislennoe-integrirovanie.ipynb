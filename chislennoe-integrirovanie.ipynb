{
 "cells": [
  {
   "cell_type": "markdown",
   "id": "39d981a6-12da-4a41-9d7d-6578ba8d1e78",
   "metadata": {},
   "source": [
    "# Задание по теме «Численное интегрирование»"
   ]
  },
  {
   "cell_type": "markdown",
   "id": "3171b0a0-c222-4952-bad5-dd3cd53391bb",
   "metadata": {},
   "source": [
    "Вычислить приближенно определенный интеграл  с точностью ε = 10−3, воспользовавшись той из формул приближенного интегрирования, которая потребует меньшего объема вычислений. Вычислить определенный интеграл аналитически и сравнить решение с приближенным значением.\n",
    "\n",
    "2.Вычислить тот же интеграл методом Монте-Карло. Опытным путем выяснить, сколько случайных точек на отрезке нужно брать, чтобы обеспечить заданную точность. Сделать выводы."
   ]
  },
  {
   "cell_type": "markdown",
   "id": "7e3d2a6b-3a9d-450f-9e74-3adf14306917",
   "metadata": {},
   "source": [
    "Вариант 2:\n",
    "$$\n",
    "\\int^2_1 \\frac{dx}x\n",
    "$$"
   ]
  },
  {
   "cell_type": "markdown",
   "id": "77ae62a5-fd1c-49f4-b078-f43b3fad5b45",
   "metadata": {},
   "source": [
    "Разбил отрезок на пять частей и нашел от первой до четвертой производной по формулам:\n",
    "$$F'(x)=\\frac{1}{x}$$\n",
    "$$F''(x)=-\\frac{1}{x^2}$$\n",
    "$$F'''(x)=\\frac{2}{x^3}$$\n",
    "$$F''''(x)=-\\frac{6}{x^4}$$"
   ]
  },
  {
   "cell_type": "code",
   "execution_count": 1,
   "id": "6351e441-4d93-48d3-b174-809a6c9902bb",
   "metadata": {},
   "outputs": [
    {
     "name": "stdout",
     "output_type": "stream",
     "text": [
      "[1.         1.11111111 1.22222222 1.33333333 1.44444444 1.55555556\n",
      " 1.66666667 1.77777778 1.88888889 2.        ]\n",
      "[[ 1.          0.9         0.81818182  0.75        0.69230769  0.64285714\n",
      "   0.6         0.5625      0.52941176  0.5       ]\n",
      " [-1.         -0.81       -0.66942149 -0.5625     -0.47928994 -0.41326531\n",
      "  -0.36       -0.31640625 -0.28027682 -0.25      ]\n",
      " [ 2.          1.458       1.09541698  0.84375     0.66363223  0.53134111\n",
      "   0.432       0.35595703  0.29676369  0.25      ]\n",
      " [-6.         -3.9366     -2.68875077 -1.8984375  -1.37831308 -1.02472928\n",
      "  -0.7776     -0.60067749 -0.47133056 -0.375     ]]\n"
     ]
    }
   ],
   "source": [
    "import numpy as np\n",
    "x = np.linspace(1, 2, 10)\n",
    "print(x)\n",
    "x_dot = np.zeros((4, x.shape[0]))\n",
    "x_dot[0] = 1/x\n",
    "x_dot[1] = -1/np.power(x, 2)\n",
    "x_dot[2] = 2/np.power(x, 3)\n",
    "x_dot[3] = -6/np.power(x, 4)\n",
    "print(x_dot)"
   ]
  },
  {
   "cell_type": "markdown",
   "id": "561434e8-7ed5-4295-9e13-8430bcc7063c",
   "metadata": {},
   "source": [
    "Нашел количество частей на которые нужно разделить отерзок для разны формул"
   ]
  },
  {
   "cell_type": "code",
   "execution_count": 2,
   "id": "e754f531-a0d2-4565-8d9b-a97a7b71f6b3",
   "metadata": {},
   "outputs": [
    {
     "name": "stdout",
     "output_type": "stream",
     "text": [
      "Количество частей для формулы прямоугольников: 5000\n",
      "Количество частей для формулы трапеции: 40\n",
      "Количество частей для формулы Симпсона: 4\n"
     ]
    }
   ],
   "source": [
    "e = 10**-4\n",
    "h = (x[-1]-x[0])/(x.shape[0]-1)\n",
    "n_rectangle = int((np.abs(x[-1]-x[0])*np.max(np.abs(x_dot[1]))/(2*e)))\n",
    "n_trapezoid = int(np.power((np.abs(x[-1]-x[0])*np.max(np.abs(x_dot[2]))/(12*e)),1/2))\n",
    "n_simpson = int(np.power((np.abs(x[-1]-x[0])*np.max(np.abs(x_dot[3]))/(180*e)),1/4))\n",
    "print('Количество частей для формулы прямоугольников:', n_rectangle)\n",
    "print('Количество частей для формулы трапеции:', n_trapezoid)\n",
    "print('Количество частей для формулы Симпсона:', n_simpson)"
   ]
  },
  {
   "cell_type": "markdown",
   "id": "44935072-3a9a-4304-bcf3-e6605384e808",
   "metadata": {},
   "source": [
    "Разбил отрезок на 4 части и получил оценку осточного члена"
   ]
  },
  {
   "cell_type": "code",
   "execution_count": 3,
   "id": "4d936390-4240-4598-a1d4-c68a806bf4af",
   "metadata": {},
   "outputs": [
    {
     "name": "stdout",
     "output_type": "stream",
     "text": [
      "x:  [1.   1.25 1.5  1.75 2.  ]\n",
      "y:  [1.         0.8        0.66666667 0.57142857 0.5       ]\n",
      "h = 0.25\n",
      "M = 6.0\n",
      "R < 0.00013020833333333333\n"
     ]
    }
   ],
   "source": [
    "x = np.linspace(1, 2, n_simpson + 1)\n",
    "y = 1/x\n",
    "h = (x[-1]-x[0])/(x.shape[0]-1)\n",
    "print('x: ', x)\n",
    "print('y: ', y)\n",
    "print('h =', h)\n",
    "M = np.max(np.abs(x_dot[3]))\n",
    "R = M*np.abs(x[-1]-x[0])*h**4/180\n",
    "print('M =', M)\n",
    "print('R <', R)"
   ]
  },
  {
   "cell_type": "markdown",
   "id": "3a8dddb9-414f-4b56-a275-b18f31175dcb",
   "metadata": {},
   "source": [
    "Определели функцию для приближенного вычисления интеграла"
   ]
  },
  {
   "cell_type": "code",
   "execution_count": 4,
   "id": "7a8a230d-e174-4851-9c7e-21dc2a6db2a9",
   "metadata": {},
   "outputs": [
    {
     "name": "stdout",
     "output_type": "stream",
     "text": [
      "I = 0.6932539682539682\n"
     ]
    }
   ],
   "source": [
    "def find_matrix(y,h):\n",
    "    sum1 = y[0]/2 + y[-1]/2\n",
    "    sum2 = 0\n",
    "    sum3 = 0\n",
    "    for i in range(1, y.shape[0]-1):\n",
    "        if i%2==0:\n",
    "            sum2+=y[i]\n",
    "        else:\n",
    "            sum3+=2*y[i]\n",
    "    I = 2*h/3*(sum1+sum2+sum3)\n",
    "    return I\n",
    "    \n",
    "print('I =', find_matrix(y,h))"
   ]
  },
  {
   "cell_type": "markdown",
   "id": "9eab92eb-974c-4874-a2bd-20e5ca5241e7",
   "metadata": {},
   "source": [
    "Вычислил инеграл аналитически:\n",
    "$$ln(x)$$"
   ]
  },
  {
   "cell_type": "code",
   "execution_count": 5,
   "id": "ff0371b5-f588-40fc-b626-d47657712429",
   "metadata": {},
   "outputs": [
    {
     "name": "stdout",
     "output_type": "stream",
     "text": [
      "0.6931471805599453\n"
     ]
    }
   ],
   "source": [
    "print(np.log(2))"
   ]
  },
  {
   "cell_type": "markdown",
   "id": "286f1734-ca31-4e68-8b97-4f15766f9af6",
   "metadata": {},
   "source": [
    "Вычислил интеграл методом Монте-Карло, заданая точность обеспечивается при:\n",
    "$$n>10^6$$"
   ]
  },
  {
   "cell_type": "code",
   "execution_count": 6,
   "id": "40d2af9d-aea2-45b1-86ab-db2c45e8b317",
   "metadata": {},
   "outputs": [
    {
     "name": "stdout",
     "output_type": "stream",
     "text": [
      "0.6931964827912956\n"
     ]
    }
   ],
   "source": [
    "n = 10**6\n",
    "sum = 0\n",
    "for i in range(1,n):\n",
    "    sum+=1/np.random.uniform(1.0,2.0)\n",
    "print(1/n*sum)"
   ]
  }
 ],
 "metadata": {
  "kernelspec": {
   "display_name": "Python 3 (ipykernel)",
   "language": "python",
   "name": "python3"
  },
  "language_info": {
   "codemirror_mode": {
    "name": "ipython",
    "version": 3
   },
   "file_extension": ".py",
   "mimetype": "text/x-python",
   "name": "python",
   "nbconvert_exporter": "python",
   "pygments_lexer": "ipython3",
   "version": "3.12.4"
  }
 },
 "nbformat": 4,
 "nbformat_minor": 5
}
