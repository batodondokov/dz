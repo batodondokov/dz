{
 "cells": [
  {
   "cell_type": "markdown",
   "id": "5be2eae3-25e9-4ebe-a615-34705f63a0b5",
   "metadata": {},
   "source": [
    "# Задание по теме «LU- и LDU-разложение матриц»"
   ]
  },
  {
   "cell_type": "markdown",
   "id": "c545ffc5-2e56-4fe2-bab7-32dae27cc39f",
   "metadata": {},
   "source": [
    "1. Найти LU- и LDU-разложение матрицы. Проверить, что А=LU=LDU. Выписать матрицы преобразований Е, произведение которых дают матрицу U, а также их обратные, произведения которых дают матрицу L. Описать, что сделает с исходной матрицей ее умножение на каждую из матриц Е слева."
   ]
  },
  {
   "cell_type": "markdown",
   "id": "27005323-0cab-4212-8e79-91a58f828297",
   "metadata": {},
   "source": [
    "Вариант 2. Задаю матрицу А."
   ]
  },
  {
   "cell_type": "code",
   "execution_count": 1,
   "id": "df193103-5716-4793-889c-fb7c6d3b2d24",
   "metadata": {},
   "outputs": [],
   "source": [
    "import numpy as np\n",
    "\n",
    "A = np.array([[2, -3, 0],\n",
    "            [4, -5, 1],\n",
    "            [2, 0, 1]])"
   ]
  },
  {
   "cell_type": "markdown",
   "id": "b1c074c2-4746-4816-bd06-3f76ebe9946e",
   "metadata": {},
   "source": [
    "Создаю функцию для нахождения LU разложения"
   ]
  },
  {
   "cell_type": "code",
   "execution_count": 2,
   "id": "21aca25e-5f11-4633-affa-dda6372bb661",
   "metadata": {},
   "outputs": [],
   "source": [
    "def find_lu(a):\n",
    "    u = np.zeros_like(a)\n",
    "    l = np.eye(a.shape[0])\n",
    "    \n",
    "    for i in range(a.shape[0]):\n",
    "        for j in range(a.shape[0]):\n",
    "            if i <= j:\n",
    "                sum = 0\n",
    "                for k in range(i):\n",
    "                    sum += l[i][k] * u[k][j]\n",
    "                u[i][j] = a[i][j] - sum\n",
    "            if i > j:\n",
    "                sum = 0\n",
    "                for k in range(i):\n",
    "                    sum += l[i][k] * u[k][j]\n",
    "                l[i][j] = (a[i][j] - sum)/u[j][j]\n",
    "    return l, u"
   ]
  },
  {
   "cell_type": "markdown",
   "id": "b81f16d7-403b-443c-8efb-301e07bd7228",
   "metadata": {},
   "source": [
    "Нахожу матрицу L и U. Проверяю, что A = LU"
   ]
  },
  {
   "cell_type": "code",
   "execution_count": 3,
   "id": "d5eae293-9e01-4978-a33f-202358b79963",
   "metadata": {},
   "outputs": [
    {
     "name": "stdout",
     "output_type": "stream",
     "text": [
      "L:\n",
      "[[1. 0. 0.]\n",
      " [2. 1. 0.]\n",
      " [1. 3. 1.]]\n",
      "U:\n",
      "[[ 2 -3  0]\n",
      " [ 0  1  1]\n",
      " [ 0  0 -2]]\n",
      "A:\n",
      "[[ 2 -3  0]\n",
      " [ 4 -5  1]\n",
      " [ 2  0  1]]\n",
      "LU:\n",
      "[[ 2. -3.  0.]\n",
      " [ 4. -5.  1.]\n",
      " [ 2.  0.  1.]]\n"
     ]
    }
   ],
   "source": [
    "L, U = find_lu(A)\n",
    "print('L:')\n",
    "print(L)\n",
    "print('U:')\n",
    "print(U)\n",
    "print('A:')\n",
    "print(A)\n",
    "print('LU:')\n",
    "print(L@U)"
   ]
  },
  {
   "cell_type": "markdown",
   "id": "e9b05fa4-20c0-4875-963d-b6ed06b85297",
   "metadata": {},
   "source": [
    "Выписал матрицы преобразований Е, произведение которых дают матрицу U"
   ]
  },
  {
   "cell_type": "markdown",
   "id": "1a2a119c-40b4-4fdd-9ef8-2efa5b9c630d",
   "metadata": {},
   "source": [
    "Вычитание удвоенного первого уравнения из второго:"
   ]
  },
  {
   "cell_type": "code",
   "execution_count": 4,
   "id": "c467ca33-b6b0-41e8-b264-e38e3b3aa3cd",
   "metadata": {},
   "outputs": [
    {
     "name": "stdout",
     "output_type": "stream",
     "text": [
      "U:\n",
      "[[ 2 -3  0]\n",
      " [ 0  1  1]\n",
      " [ 0  0 -2]]\n",
      "E1:\n",
      "[[ 1  0  0]\n",
      " [-2  1  0]\n",
      " [ 0  0  1]]\n",
      "E1 * A:\n",
      "[[ 2 -3  0]\n",
      " [ 0  1  1]\n",
      " [ 2  0  1]]\n"
     ]
    }
   ],
   "source": [
    "print('U:')\n",
    "print(U)\n",
    "e1 = np.array([[1, 0, 0],\n",
    "               [-2, 1, 0],\n",
    "               [0, 0, 1]])\n",
    "print('E1:')\n",
    "print(e1)\n",
    "e1a = np.array([[2, -3, 0],\n",
    "               [0, 1, 1],\n",
    "               [2, 0, 1]])\n",
    "print('E1 * A:')\n",
    "print(e1a)"
   ]
  },
  {
   "cell_type": "markdown",
   "id": "e591145e-6cd4-474f-b949-a095a3557d9c",
   "metadata": {},
   "source": [
    "Вычитание первого уравнения, из третьего:"
   ]
  },
  {
   "cell_type": "code",
   "execution_count": 5,
   "id": "90f156d8-36c2-46b7-9c7e-dba4c0b14155",
   "metadata": {},
   "outputs": [
    {
     "name": "stdout",
     "output_type": "stream",
     "text": [
      "U:\n",
      "[[ 2 -3  0]\n",
      " [ 0  1  1]\n",
      " [ 0  0 -2]]\n",
      "E2:\n",
      "[[ 1  0  0]\n",
      " [ 0  1  0]\n",
      " [-1  0  1]]\n",
      "E2 * E1 * A:\n",
      "[[ 2 -3  0]\n",
      " [ 0  1  1]\n",
      " [ 0  3  1]]\n"
     ]
    }
   ],
   "source": [
    "print('U:')\n",
    "print(U)\n",
    "e2 = np.array([[1, 0, 0],\n",
    "               [0, 1, 0],\n",
    "               [-1, 0, 1]])\n",
    "print('E2:')\n",
    "print(e2)\n",
    "e2e1a = np.array([[2, -3, 0],\n",
    "               [0, 1, 1],\n",
    "               [0, 3, 1]])\n",
    "print('E2 * E1 * A:')\n",
    "print(e2e1a)"
   ]
  },
  {
   "cell_type": "markdown",
   "id": "29b42558-abbf-4b82-acb7-dd741412a1c7",
   "metadata": {},
   "source": [
    "Вычитание второго уравнения умноженного на 3, из третьего:"
   ]
  },
  {
   "cell_type": "code",
   "execution_count": 6,
   "id": "cf0e6bbe-bad6-404f-82a5-3136dc62dd26",
   "metadata": {},
   "outputs": [
    {
     "name": "stdout",
     "output_type": "stream",
     "text": [
      "U:\n",
      "[[ 2 -3  0]\n",
      " [ 0  1  1]\n",
      " [ 0  0 -2]]\n",
      "E3\n",
      "[[ 1  0  0]\n",
      " [ 0  1  0]\n",
      " [ 0 -3  1]]\n",
      "E3 * E2 * E1 * A:\n",
      "[[ 2 -3  0]\n",
      " [ 0  1  1]\n",
      " [ 0  0 -2]]\n"
     ]
    }
   ],
   "source": [
    "print('U:')\n",
    "print(U)\n",
    "e3 = np.array([[1, 0, 0],\n",
    "               [0, 1, 0],\n",
    "               [0, -3, 1]])\n",
    "print('E3')\n",
    "print(e3)\n",
    "e3e2e1a = np.array([[2, -3, 0],\n",
    "               [0, 1, 1],\n",
    "               [0, 0, -2]])\n",
    "print('E3 * E2 * E1 * A:')\n",
    "print(e3e2e1a)"
   ]
  },
  {
   "cell_type": "markdown",
   "id": "a605b1e9-bc6a-46a2-93c4-789bfcd428a6",
   "metadata": {},
   "source": [
    "Проверяю, что произведение обратных матриц E дает матрицу L."
   ]
  },
  {
   "cell_type": "code",
   "execution_count": 7,
   "id": "24b37951-fd9f-4d98-9645-3510281f65c8",
   "metadata": {},
   "outputs": [
    {
     "name": "stdout",
     "output_type": "stream",
     "text": [
      "L:\n",
      "[[1. 0. 0.]\n",
      " [2. 1. 0.]\n",
      " [1. 3. 1.]]\n",
      "E3_inv * E2_inv * E1_inv:\n",
      "[[1. 0. 0.]\n",
      " [2. 1. 0.]\n",
      " [1. 3. 1.]]\n"
     ]
    }
   ],
   "source": [
    "e1_inv = np.linalg.inv(e1)\n",
    "e2_inv = np.linalg.inv(e2)\n",
    "e3_inv = np.linalg.inv(e3)\n",
    "l_check = e1_inv @ e2_inv @ e3_inv\n",
    "print('L:')\n",
    "print(L)\n",
    "print('E3_inv * E2_inv * E1_inv:')\n",
    "print(l_check)"
   ]
  },
  {
   "cell_type": "markdown",
   "id": "09840d8c-d0a1-435d-98da-65fbc37f4aeb",
   "metadata": {},
   "source": [
    "Создаю функцию для нахождения матриц L, D, U."
   ]
  },
  {
   "cell_type": "code",
   "execution_count": 8,
   "id": "0775e137-780b-4a8f-982a-5c5a5edc62fe",
   "metadata": {},
   "outputs": [],
   "source": [
    "def find_ldu(a):\n",
    "    l = np.eye(a.shape[0])\n",
    "    d = np.eye(a.shape[0])\n",
    "    u = np.eye(a.shape[0])\n",
    "    \n",
    "    for i in range(a.shape[0]):\n",
    "        for j in range(a.shape[0]):               \n",
    "            if i <= j:           \n",
    "                sum = 0\n",
    "                for k in range(i):\n",
    "                    sum += l[i][k] * u[k][j]\n",
    "                if i==j:\n",
    "                    d[i][j] = a[i][j] - sum\n",
    "                u[i][j] = a[i][j] - sum\n",
    "            if i > j:\n",
    "                sum = 0\n",
    "                for k in range(i):\n",
    "                    sum += l[i][k] * u[k][j]\n",
    "                l[i][j] = (a[i][j] - sum)/u[j][j]\n",
    "    for i in range(u.shape[0]):\n",
    "        for j in range(u.shape[0]):\n",
    "            if i==j:\n",
    "                u[i][j] = 1\n",
    "            else:\n",
    "                if i <= j:           \n",
    "                    u[i][j] = u[i][j] / d[i][i]\n",
    "    return l, d, u"
   ]
  },
  {
   "cell_type": "markdown",
   "id": "b51533fe-8771-4c19-8a5f-e42a479e9fc1",
   "metadata": {},
   "source": [
    "Нахожу L, D, U. Проверяю, что А=LDU."
   ]
  },
  {
   "cell_type": "code",
   "execution_count": 9,
   "id": "d4db5926-1f05-4cfb-aeed-c502aa7a7c2c",
   "metadata": {},
   "outputs": [
    {
     "name": "stdout",
     "output_type": "stream",
     "text": [
      "L:\n",
      "[[1. 0. 0.]\n",
      " [2. 1. 0.]\n",
      " [1. 3. 1.]]\n",
      "D:\n",
      "[[ 2.  0.  0.]\n",
      " [ 0.  1.  0.]\n",
      " [ 0.  0. -2.]]\n",
      "U:\n",
      "[[ 1.  -1.5  0. ]\n",
      " [ 0.   1.   1. ]\n",
      " [ 0.   0.   1. ]]\n",
      "A:\n",
      "[[ 2 -3  0]\n",
      " [ 4 -5  1]\n",
      " [ 2  0  1]]\n",
      "LDU:\n",
      "[[ 2. -3.  0.]\n",
      " [ 4. -5.  1.]\n",
      " [ 2.  0.  1.]]\n"
     ]
    }
   ],
   "source": [
    "l, d, u = find_ldu(A)\n",
    "print('L:')\n",
    "print(l)\n",
    "print('D:')\n",
    "print(d)\n",
    "print('U:')\n",
    "print(u)\n",
    "print('A:')\n",
    "print(A)\n",
    "print('LDU:')\n",
    "print(l@d@u)"
   ]
  },
  {
   "cell_type": "markdown",
   "id": "8ee00d62-c142-41be-9f8c-b991048f0730",
   "metadata": {},
   "source": [
    "2. Придумать вектор b, и решить систему Ax=b с помощью LU- или LDU- разложения матрицы А. Проверьте правильность решения. "
   ]
  },
  {
   "cell_type": "markdown",
   "id": "5e73bee4-81c5-49f7-b4e6-4d9740995bfd",
   "metadata": {},
   "source": [
    "Задаю вектор b."
   ]
  },
  {
   "cell_type": "code",
   "execution_count": 10,
   "id": "68c818af-3a66-49f1-9658-db9f19cf4891",
   "metadata": {},
   "outputs": [],
   "source": [
    "b = np.array([3, 10, 5])"
   ]
  },
  {
   "cell_type": "markdown",
   "id": "65139158-0af9-4fc6-abaf-5f48bfef50d1",
   "metadata": {},
   "source": [
    "Нахожу с = L<sup>-1</sup>b"
   ]
  },
  {
   "cell_type": "code",
   "execution_count": 11,
   "id": "33f5fc2d-73be-4912-9310-2b557e5a4e47",
   "metadata": {},
   "outputs": [
    {
     "name": "stdout",
     "output_type": "stream",
     "text": [
      "c:\n",
      "[  3.   4. -10.]\n"
     ]
    }
   ],
   "source": [
    "c = np.linalg.inv(L) @ b\n",
    "print('c:')\n",
    "print(c)"
   ]
  },
  {
   "cell_type": "markdown",
   "id": "ef307e54-69e2-43e9-ae18-46b020cfb1ff",
   "metadata": {},
   "source": [
    "Нахожу x = U<sup>-1</sup>c"
   ]
  },
  {
   "cell_type": "code",
   "execution_count": 12,
   "id": "c454f1ed-f906-4be9-a6ba-de1801efaf20",
   "metadata": {},
   "outputs": [
    {
     "name": "stdout",
     "output_type": "stream",
     "text": [
      "x:\n",
      "[ 0. -1.  5.]\n"
     ]
    }
   ],
   "source": [
    "x = np.linalg.inv(U) @ c\n",
    "print('x:')\n",
    "print(x)"
   ]
  },
  {
   "cell_type": "markdown",
   "id": "54930cdd-7c47-4ec3-b874-22ebc027937a",
   "metadata": {},
   "source": [
    "Проверяю, что Ax = b"
   ]
  },
  {
   "cell_type": "code",
   "execution_count": 13,
   "id": "1f9a92fc-c775-439f-a993-566f1a452f2d",
   "metadata": {},
   "outputs": [
    {
     "name": "stdout",
     "output_type": "stream",
     "text": [
      "b:\n",
      "[ 3 10  5]\n",
      "Ax:\n",
      "[ 3. 10.  5.]\n"
     ]
    }
   ],
   "source": [
    "print('b:')\n",
    "print(b)\n",
    "print('Ax:')\n",
    "print(A @ x)"
   ]
  },
  {
   "cell_type": "markdown",
   "id": "04c99e6b-fc20-41f7-9ce7-f07ddef8bab1",
   "metadata": {},
   "source": [
    "3. Найти разложение на нижнюю треугольную и верхнюю унитреугольную матрицу по формулам X=Y\\*Z. Здесь Х=А. Проверить, что Х=Y*Z. Сделать LDU- разложения матрицы А=Х и убедиться, что хотя разложения на нижнюю и верхнюю треугольные матрицы не обязательно совпадает, LDU- разложение будет одно."
   ]
  },
  {
   "cell_type": "markdown",
   "id": "88954b8d-5a10-4f68-a63f-5a1d802e287e",
   "metadata": {},
   "source": [
    "Создал функцию для нахождения Y и Z"
   ]
  },
  {
   "cell_type": "code",
   "execution_count": 14,
   "id": "8d9b37ae-6106-4445-9d19-7ffe5b465f5d",
   "metadata": {},
   "outputs": [],
   "source": [
    "def find_yz(x):\n",
    "    y = np.zeros_like(x)\n",
    "    z = np.eye(x.shape[0])\n",
    "    for i in range(x.shape[0]):\n",
    "        for j in range(x.shape[1]):\n",
    "            if j == 0:\n",
    "                y[i][j] = x[i][j]\n",
    "            if i == 0:\n",
    "                z[i][j] = x[i][j] / y[i][i]    \n",
    "            if (i >= j and j >= 1):\n",
    "                sum = 0\n",
    "                for k in range(i):\n",
    "                    sum += y[i][k] * z[k][j]\n",
    "                y[i][j] = x[i][j] - sum\n",
    "            if (0 < i and i < j):\n",
    "                sum = 0\n",
    "                for k in range(i):\n",
    "                    sum += y[i][k] * z[k][j]\n",
    "                z[i][j] = (x[i][j] - sum) / y[i][i]\n",
    "    return y,z                "
   ]
  },
  {
   "cell_type": "markdown",
   "id": "5a4a9378-1290-4043-a914-6cb2224e48cd",
   "metadata": {},
   "source": [
    "Нашел Y и Z. Проверил, что X=Y*Z"
   ]
  },
  {
   "cell_type": "code",
   "execution_count": 15,
   "id": "303353f7-dac4-4b9e-8075-59b8293efc7d",
   "metadata": {},
   "outputs": [
    {
     "name": "stdout",
     "output_type": "stream",
     "text": [
      "Y:\n",
      "[[ 2  0  0]\n",
      " [ 4  1  0]\n",
      " [ 2  3 -2]]\n",
      "Z:\n",
      "[[ 1.  -1.5  0. ]\n",
      " [ 0.   1.   1. ]\n",
      " [ 0.   0.   1. ]]\n",
      "X:\n",
      "[[ 2 -3  0]\n",
      " [ 4 -5  1]\n",
      " [ 2  0  1]]\n",
      "Y*Z:\n",
      "[[ 2. -3.  0.]\n",
      " [ 4. -5.  1.]\n",
      " [ 2.  0.  1.]]\n"
     ]
    }
   ],
   "source": [
    "Y, Z = find_yz(A)\n",
    "print('Y:')\n",
    "print(Y)\n",
    "print('Z:')\n",
    "print(Z)\n",
    "print('X:')\n",
    "print(A)\n",
    "print('Y*Z:')\n",
    "print(Y@Z)"
   ]
  },
  {
   "cell_type": "markdown",
   "id": "ec382e23-370c-4c4c-83a7-d2396b9b43ea",
   "metadata": {},
   "source": [
    "Сравнил с LDU Разложением. Матрица Y не обязательно совпадает с матрицей L."
   ]
  },
  {
   "cell_type": "code",
   "execution_count": 16,
   "id": "f255d129-3b58-4e3e-9a9a-0fab8a396d78",
   "metadata": {},
   "outputs": [
    {
     "name": "stdout",
     "output_type": "stream",
     "text": [
      "L:\n",
      "[[1. 0. 0.]\n",
      " [2. 1. 0.]\n",
      " [1. 3. 1.]]\n",
      "D:\n",
      "[[ 2.  0.  0.]\n",
      " [ 0.  1.  0.]\n",
      " [ 0.  0. -2.]]\n",
      "U:\n",
      "[[ 1.  -1.5  0. ]\n",
      " [ 0.   1.   1. ]\n",
      " [ 0.   0.   1. ]]\n"
     ]
    }
   ],
   "source": [
    "print('L:')\n",
    "print(l)\n",
    "print('D:')\n",
    "print(d)\n",
    "print('U:')\n",
    "print(u)"
   ]
  },
  {
   "cell_type": "markdown",
   "id": "4f5e40b6-9421-4192-ab40-29727c1745c0",
   "metadata": {},
   "source": [
    "4. Написать, где может использоваться LU- и LDU-разложение матриц.\n",
    "\n",
    "LU- и LDU-разложение матриц могут использоваться в разных областях, где часто возникает необходимость решения большого числа линейных уравнений, например:\n",
    "- алгоритмы машинного обучения;\n",
    "- работа с изображениями и графикой;\n",
    "- моделирования и симуляции.\n",
    "- инженерные расчеты."
   ]
  }
 ],
 "metadata": {
  "kernelspec": {
   "display_name": "Python 3 (ipykernel)",
   "language": "python",
   "name": "python3"
  },
  "language_info": {
   "codemirror_mode": {
    "name": "ipython",
    "version": 3
   },
   "file_extension": ".py",
   "mimetype": "text/x-python",
   "name": "python",
   "nbconvert_exporter": "python",
   "pygments_lexer": "ipython3",
   "version": "3.12.4"
  }
 },
 "nbformat": 4,
 "nbformat_minor": 5
}
