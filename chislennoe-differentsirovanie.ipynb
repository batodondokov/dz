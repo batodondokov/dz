{
 "cells": [
  {
   "cell_type": "markdown",
   "id": "e5aef5a4-a27f-4edd-9040-ee5c490cfcef",
   "metadata": {},
   "source": [
    "# Задание по теме «Численное дифференцирование»"
   ]
  },
  {
   "cell_type": "markdown",
   "id": "8672e552-f09f-4e51-ab2a-9d60a530b451",
   "metadata": {},
   "source": [
    "Таблично задать на указанном интервале функцию и найти ее производные в узлах таблицы и точках, находящихся посередине между узлами таблицы. Для проведения операции дифференцирования заданный интервал разбить на 20 участков.\n",
    "\n",
    "Вариант-2:\n",
    "$$\n",
    "f(x) = e^xsin\\ x,\\ [1;2]\n",
    "$$"
   ]
  },
  {
   "cell_type": "markdown",
   "id": "fca154d3-fa0a-43c9-9919-5d1574b094e7",
   "metadata": {},
   "source": [
    "Задаю таблицу"
   ]
  },
  {
   "cell_type": "code",
   "execution_count": 2,
   "id": "f6417733-7c50-45ad-8456-7863d4c4926a",
   "metadata": {},
   "outputs": [
    {
     "name": "stdout",
     "output_type": "stream",
     "text": [
      "X:\n",
      "[1.   1.05 1.1  1.15 1.2  1.25 1.3  1.35 1.4  1.45 1.5  1.55 1.6  1.65\n",
      " 1.7  1.75 1.8  1.85 1.9  1.95 2.  ]\n",
      "Y:\n",
      "[2.28735529 2.47879295 2.67733487 2.8826846  3.09447874 3.31228178\n",
      " 3.53558084 3.76378019 3.99619571 4.23204916 4.47046238 4.71045139\n",
      " 4.95092047 5.19065609 5.428321   5.66244816 5.89143485 6.1135368\n",
      " 6.3268625  6.52936761 6.7188497 ]\n"
     ]
    }
   ],
   "source": [
    "import numpy as np\n",
    "X = np.linspace(1.0, 2.0, 21)\n",
    "print('X:')\n",
    "print(X)\n",
    "Y = np.exp(X) * np.sin(X)\n",
    "print('Y:')\n",
    "print(Y)"
   ]
  },
  {
   "cell_type": "markdown",
   "id": "94d1c72d-0074-4bbe-98e5-92bde17fd43e",
   "metadata": {},
   "source": [
    "Нахожу таблицу конечных разностей"
   ]
  },
  {
   "cell_type": "code",
   "execution_count": 8,
   "id": "c1150bd3-488f-42ac-bcf0-f0ed6ae8f59e",
   "metadata": {},
   "outputs": [
    {
     "name": "stdout",
     "output_type": "stream",
     "text": [
      "[[ 2.28735529e+00  2.47879295e+00  2.67733487e+00  2.88268460e+00\n",
      "   3.09447874e+00  3.31228178e+00  3.53558084e+00  3.76378019e+00\n",
      "   3.99619571e+00  4.23204916e+00  4.47046238e+00  4.71045139e+00\n",
      "   4.95092047e+00  5.19065609e+00  5.42832100e+00  5.66244816e+00\n",
      "   5.89143485e+00  6.11353680e+00  6.32686250e+00  6.52936761e+00\n",
      "   6.71884970e+00]\n",
      " [ 1.91438000e-01  1.98542000e-01  2.05350000e-01  2.11794000e-01\n",
      "   2.17803000e-01  2.23299000e-01  2.28199000e-01  2.32416000e-01\n",
      "   2.35853000e-01  2.38413000e-01  2.39989000e-01  2.40469000e-01\n",
      "   2.39736000e-01  2.37665000e-01  2.34127000e-01  2.28987000e-01\n",
      "   2.22102000e-01  2.13326000e-01  2.02505000e-01  1.89482000e-01\n",
      "   0.00000000e+00]\n",
      " [ 7.10400000e-03  6.80800000e-03  6.44400000e-03  6.00900000e-03\n",
      "   5.49600000e-03  4.90000000e-03  4.21700000e-03  3.43700000e-03\n",
      "   2.56000000e-03  1.57600000e-03  4.80000000e-04 -7.33000000e-04\n",
      "  -2.07100000e-03 -3.53800000e-03 -5.14000000e-03 -6.88500000e-03\n",
      "  -8.77600000e-03 -1.08210000e-02 -1.30230000e-02  0.00000000e+00\n",
      "   0.00000000e+00]\n",
      " [-2.96000000e-04 -3.64000000e-04 -4.35000000e-04 -5.13000000e-04\n",
      "  -5.96000000e-04 -6.83000000e-04 -7.80000000e-04 -8.77000000e-04\n",
      "  -9.84000000e-04 -1.09600000e-03 -1.21300000e-03 -1.33800000e-03\n",
      "  -1.46700000e-03 -1.60200000e-03 -1.74500000e-03 -1.89100000e-03\n",
      "  -2.04500000e-03 -2.20200000e-03  0.00000000e+00  0.00000000e+00\n",
      "   0.00000000e+00]]\n"
     ]
    }
   ],
   "source": [
    "def find_def_matrix(Y):\n",
    "    n = Y.shape[0]\n",
    "    d_y = np.zeros((n,n))\n",
    "    d_y[0] = Y\n",
    "    for i in range(1, n):\n",
    "        for j in range(n-i):\n",
    "            d_y[i][j] = np.round((d_y[i-1][j+1] - d_y[i-1][j]), 6)\n",
    "        if d_y[i][0] > -0.001 and d_y[i][0] < 0.001:\n",
    "            return(d_y[0:i+1])\n",
    "d_y = find_def_matrix(Y)\n",
    "print(d_y)"
   ]
  },
  {
   "cell_type": "markdown",
   "id": "cb47a8e0-0ed9-4b5a-9f6c-c6f90080cb57",
   "metadata": {},
   "source": [
    "Дифференцирую по первой интерполяционной формуле Ньютона"
   ]
  },
  {
   "cell_type": "code",
   "execution_count": 9,
   "id": "9cc24804-25f4-4b60-8ba3-f5efa93dba66",
   "metadata": {},
   "outputs": [],
   "source": [
    "h = X[1]-X[0]\n",
    "def find_diff_first(value, X, d_y, h):\n",
    "    d_y_temp = []\n",
    "    if value in X:\n",
    "        i = np.where(X == value)[0][0]\n",
    "        d_y_temp = d_y[1:4,i]\n",
    "        sum = 0\n",
    "        for j in range(d_y_temp.shape[0]):\n",
    "            if j%2 == 0:\n",
    "                sum += d_y_temp[j]/(j+1)\n",
    "            else:\n",
    "                sum -= d_y_temp[j]/(j+1)\n",
    "        return(sum/h)\n",
    "    else:\n",
    "        x0 = 0\n",
    "        for k in range(X.shape[0]):\n",
    "            if X[k] < value and X[k+1] > value:\n",
    "                x0 = X[k]\n",
    "        i = np.where(X == x0)[0][0]\n",
    "        d_y_temp = d_y[1:d_y.shape[1],i]\n",
    "        t = (value-x0)/h\n",
    "        fx = 1/h * (d_y_temp[0] + ((2*t - 1)/2)*d_y_temp[1] - ((3*t**2 - 6*t + 2)/6)*d_y_temp[2])\n",
    "        return(fx)"
   ]
  },
  {
   "cell_type": "markdown",
   "id": "b4287889-6f56-4fec-bb96-e839c5ee290f",
   "metadata": {},
   "source": [
    "Дифференцирую по второй интерполяционной формуле Ньютона, чтобы найти производную в начале отрезка"
   ]
  },
  {
   "cell_type": "code",
   "execution_count": 10,
   "id": "ddf2cee5-ccd5-42b8-8aec-3b8a186ec811",
   "metadata": {},
   "outputs": [],
   "source": [
    "def find_diff_second(value, X, d_y, h):\n",
    "    n = X.shape[0]-1\n",
    "    d_y_temp = []\n",
    "    if value in X:\n",
    "        i = np.where(X == value)[0][0]\n",
    "        d_y_temp = d_y[1:4,0:-1-i]\n",
    "        sum = 0\n",
    "        for j in range(d_y_temp.shape[0]):\n",
    "            if d_y_temp.shape[1] > 2:\n",
    "                if j==0:\n",
    "                    sum += d_y_temp[j][-1-j]/(j+1)\n",
    "                elif j%2 == 0:\n",
    "                    sum -= d_y_temp[j][-1-j]/(j+1)\n",
    "                else:\n",
    "                    sum += d_y_temp[j][-1-j]/(j+1)\n",
    "            elif d_y_temp.shape[1] == 2:\n",
    "                if j==0:\n",
    "                    sum += d_y_temp[j][-1-j]/(j+1)\n",
    "                elif j == 1:\n",
    "                    sum -= ((2*t + 1)/2)*d_y_temp[j][-1-j]\n",
    "                return(sum/h)\n",
    "            elif d_y_temp.shape[1] == 1:\n",
    "                return(d_y_temp[j][-1-j]/(j+1)/h)\n",
    "            else:\n",
    "                return(0)\n",
    "        return(sum/h)\n",
    "    else:\n",
    "        x0 = 0\n",
    "        for k in range(X.shape[0]):\n",
    "            if X[k] < value and X[k+1] > value:\n",
    "                x0 = X[k]\n",
    "        i = np.where(X == x0)[0][0]\n",
    "        d_y_temp = d_y[1:4,0:-1-i]\n",
    "        sum = 0\n",
    "        t = (value-X[-2-i])/h\n",
    "        for j in range(d_y_temp.shape[0]):\n",
    "            if d_y_temp.shape[1] > 2:\n",
    "                if j==0:\n",
    "                    sum += d_y_temp[j][-1-j]/(j+1)\n",
    "                elif j == 1:\n",
    "                    sum -= ((2*t + 1)/2)*d_y_temp[j][-1-j]\n",
    "                else:\n",
    "                    sum += ((3*t**2 + 6*t + 2)/6)*d_y_temp[j][-1-j]\n",
    "                return(sum/h)\n",
    "            elif d_y_temp.shape[1] == 2:\n",
    "                if j==0:\n",
    "                    sum += d_y_temp[j][-1-j]/(j+1)\n",
    "                elif j == 1:\n",
    "                    sum -= ((2*t + 1)/2)*d_y_temp[j][-1-j]\n",
    "                return(sum/h)\n",
    "            elif d_y_temp.shape[1] == 1:\n",
    "                return(d_y_temp[j][-1-j]/(j+1)/h)\n",
    "            else:\n",
    "                return(0)\n",
    "                "
   ]
  },
  {
   "cell_type": "markdown",
   "id": "eb401feb-fa30-4044-b2c0-3a58cb9bc318",
   "metadata": {},
   "source": [
    "Сравнение производных"
   ]
  },
  {
   "cell_type": "code",
   "execution_count": 11,
   "id": "2af56896-5526-4bec-9562-f9cea0266026",
   "metadata": {},
   "outputs": [
    {
     "data": {
      "image/png": "[encoded data removed]",
      "text/plain": [
       "<Figure size 640x480 with 1 Axes>"
      ]
     },
     "metadata": {},
     "output_type": "display_data"
    }
   ],
   "source": [
    "xx = np.linspace(1.0, 2.0, 41)\n",
    "y_1 = []\n",
    "y_2 = []\n",
    "y_3 = []\n",
    "for x in xx:\n",
    "    y_1.append(np.exp(x) * np.sin(x) + np.exp(x) * np.cos(x))\n",
    "    y_2.append(find_diff_first(x, X, d_y, h))\n",
    "    y_3.append(find_diff_second(x, X, d_y, h))\n",
    "import matplotlib.pyplot as plt\n",
    "plt.plot(xx, y_1, color='r', label='Аналитически')\n",
    "plt.plot(xx, y_2, color='g', label='На основе первой интерполяционной формулы Ньютона')\n",
    "plt.plot(xx, np.flip(y_3), color='b', label='На основе второй интерполяционной формулы Ньютона')\n",
    "plt.xlabel(\"X\")\n",
    "plt.ylabel(\"Y\")\n",
    "plt.title(\"Сравнение производных\")\n",
    "plt.legend()\n",
    "plt.show()"
   ]
  }
 ],
 "metadata": {
  "kernelspec": {
   "display_name": "Python 3 (ipykernel)",
   "language": "python",
   "name": "python3"
  },
  "language_info": {
   "codemirror_mode": {
    "name": "ipython",
    "version": 3
   },
   "file_extension": ".py",
   "mimetype": "text/x-python",
   "name": "python",
   "nbconvert_exporter": "python",
   "pygments_lexer": "ipython3",
   "version": "3.12.4"
  }
 },
 "nbformat": 4,
 "nbformat_minor": 5
}
