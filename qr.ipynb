{
 "cells": [
  {
   "cell_type": "markdown",
   "id": "45240b16-9ea1-416e-97b9-0855afd5279c",
   "metadata": {},
   "source": [
    "# Задание по теме «QR-разложение»"
   ]
  },
  {
   "cell_type": "markdown",
   "id": "ed8baaf7-b34f-4e95-9fd8-617f02f394bb",
   "metadata": {},
   "source": [
    "1. Варианты заданий возьмите в Задании по теме «Решение систем линейных алгебраических уравнений»\n",
    "Для Вашей матрицы постройте QR-разложение методом вращений Гивенса ИЛИ методом отражений Хаусхолдера (можно даже по алгоритму Грамма-Шмидта). Проверьте, что A=QR, Q – ортогональная матрица и определитель Q равен 1. Найдите определитель матрицы А, используя данное разложение. Найдите решение системы Ax=b, используя данное разложение. "
   ]
  },
  {
   "cell_type": "markdown",
   "id": "6f40f0f7-3dea-43cf-ac95-efb3ffb0c16a",
   "metadata": {},
   "source": [
    "Вариант 2. Задаю матрицу А и вектор b."
   ]
  },
  {
   "cell_type": "code",
   "execution_count": 26,
   "id": "e6750f22-fb6c-4fef-842d-38dfa3810a38",
   "metadata": {},
   "outputs": [],
   "source": [
    "import numpy as np\n",
    "\n",
    "A = np.array([[-3, 0.5, 0.5],\n",
    "              [0.5, -6, 0.5],\n",
    "              [0.5, 0.5, -3]])\n",
    "b = np.array([-56.5, 100, -210])"
   ]
  },
  {
   "cell_type": "markdown",
   "id": "51fba590-ca9c-4e87-9c83-42d5b3554627",
   "metadata": {},
   "source": [
    "Создал функцию для нахождения матрицы Q и R по алгоритму Грамма-Шмидта."
   ]
  },
  {
   "cell_type": "code",
   "execution_count": 54,
   "id": "b4b55c46-976a-4a09-99fe-633e536be926",
   "metadata": {},
   "outputs": [],
   "source": [
    "def find_qr(A):\n",
    "    n, m = A.shape\n",
    "    Q = np.empty((n, n))\n",
    "    u = np.empty((n, n))\n",
    "\n",
    "    u[:, 0] = A[:, 0]\n",
    "    Q[:, 0] = u[:, 0] / np.linalg.norm(u[:, 0])\n",
    "\n",
    "    for i in range(1, n):\n",
    "        u[:, i] = A[:, i]\n",
    "        for j in range(i):\n",
    "            u[:, i] -= (A[:, i] @ Q[:, j]) * Q[:, j]\n",
    "        Q[:, i] = u[:, i] / np.linalg.norm(u[:, i])\n",
    "        \n",
    "    R = np.zeros((n, m))\n",
    "    for i in range(n):\n",
    "        for j in range(i, m):\n",
    "            R[i, j] = A[:, j] @ Q[:, i]\n",
    "    D = np.diag(np.sign(np.diag(Q)))\n",
    "    return Q @ D, D @ R"
   ]
  },
  {
   "cell_type": "markdown",
   "id": "8cf72145-3f22-4089-91a1-f8f217f25616",
   "metadata": {},
   "source": [
    "Нахожу матрицы Q и R. Проверяю что A=QR."
   ]
  },
  {
   "cell_type": "code",
   "execution_count": 44,
   "id": "a98fb997-9c39-4711-b977-bad20ca01c32",
   "metadata": {},
   "outputs": [
    {
     "name": "stdout",
     "output_type": "stream",
     "text": [
      "[[-0.97332853 -0.14316491  0.17926346]\n",
      " [ 0.16222142 -0.98202182  0.09652648]\n",
      " [ 0.16222142  0.12303235  0.97905426]]\n",
      "[[ 3.082207   -1.37888208 -0.89221782]\n",
      " [ 0.          5.88206462 -0.9316904 ]\n",
      " [ 0.          0.         -2.79926783]]\n"
     ]
    }
   ],
   "source": [
    "print(q)\n",
    "print(r)"
   ]
  },
  {
   "cell_type": "code",
   "execution_count": 55,
   "id": "8c136740-5b75-47a7-8070-d649586b41a4",
   "metadata": {},
   "outputs": [
    {
     "name": "stdout",
     "output_type": "stream",
     "text": [
      "Q:\n",
      "[[ 0.97332853  0.14316491  0.17926346]\n",
      " [-0.16222142  0.98202182  0.09652648]\n",
      " [-0.16222142 -0.12303235  0.97905426]]\n",
      "R:\n",
      "[[-3.082207    1.37888208  0.89221782]\n",
      " [ 0.         -5.88206462  0.9316904 ]\n",
      " [ 0.          0.         -2.79926783]]\n",
      "QR:\n",
      "[[-3.   0.5  0.5]\n",
      " [ 0.5 -6.   0.5]\n",
      " [ 0.5  0.5 -3. ]]\n",
      "A:\n",
      "[[-3.   0.5  0.5]\n",
      " [ 0.5 -6.   0.5]\n",
      " [ 0.5  0.5 -3. ]]\n"
     ]
    }
   ],
   "source": [
    "Q,R = find_qr(A)\n",
    "print('Q:')\n",
    "print(Q)\n",
    "print('R:')\n",
    "print(R)\n",
    "print('QR:')\n",
    "print(Q @ R)\n",
    "print('A:')\n",
    "print(A)"
   ]
  },
  {
   "cell_type": "markdown",
   "id": "41ee08ed-803e-4dbd-9ef5-ff3f2aa1b4b6",
   "metadata": {},
   "source": [
    "Проверяю, что Q - ортогональная матрица. Ее определитель равен и ее произведение на транспонированную дает единичную матрицу."
   ]
  },
  {
   "cell_type": "code",
   "execution_count": 57,
   "id": "027c909b-2def-4ed3-81cf-b03cfa241fca",
   "metadata": {},
   "outputs": [
    {
     "name": "stdout",
     "output_type": "stream",
     "text": [
      "Q^-1 * Q:\n",
      "[[ 1.00000000e+00 -9.37110595e-18  4.06061511e-17]\n",
      " [-9.37110595e-18  1.00000000e+00  4.67689379e-17]\n",
      " [ 4.06061511e-17  4.67689379e-17  1.00000000e+00]]\n",
      "Определитель матрицы Q: 1.0\n"
     ]
    }
   ],
   "source": [
    "print('Q^-1 * Q:')\n",
    "print(Q.transpose() @ Q)\n",
    "print('Определитель матрицы Q:', np.linalg.det(Q))"
   ]
  },
  {
   "cell_type": "markdown",
   "id": "92884802-7047-44fc-ae4d-91f319218c98",
   "metadata": {},
   "source": [
    "Нахожу определитель матрицы A  по свойству: det(A) = det(Q) * det(R). Проверяю найденный определитель с результатом готовой функции для нахождения определителя."
   ]
  },
  {
   "cell_type": "code",
   "execution_count": 58,
   "id": "c269d4f4-7a1d-4139-b57e-b96f9ccb44fc",
   "metadata": {},
   "outputs": [
    {
     "name": "stdout",
     "output_type": "stream",
     "text": [
      "det(A) = det(Q) * det(R) = -50.75000000000003\n",
      "Определитель матрицы A: -50.74999999999998\n"
     ]
    }
   ],
   "source": [
    "print('det(A) = det(Q) * det(R) =', np.linalg.det(Q) * np.linalg.det(R))\n",
    "print('Определитель матрицы A:', np.linalg.det(A))"
   ]
  },
  {
   "cell_type": "code",
   "execution_count": null,
   "id": "538936eb-944d-4237-924b-8086c2430fd8",
   "metadata": {},
   "outputs": [],
   "source": []
  },
  {
   "cell_type": "code",
   "execution_count": null,
   "id": "3df72e1f-6b94-4cc2-9364-b9695ccc9c11",
   "metadata": {},
   "outputs": [],
   "source": [
    "D = np.empty((n, n))\n",
    "E = np.empty((n, n))\n",
    "def tred2(A, n, D, E):\n",
    "    for i range()"
   ]
  }
 ],
 "metadata": {
  "kernelspec": {
   "display_name": "Python 3 (ipykernel)",
   "language": "python",
   "name": "python3"
  },
  "language_info": {
   "codemirror_mode": {
    "name": "ipython",
    "version": 3
   },
   "file_extension": ".py",
   "mimetype": "text/x-python",
   "name": "python",
   "nbconvert_exporter": "python",
   "pygments_lexer": "ipython3",
   "version": "3.12.4"
  }
 },
 "nbformat": 4,
 "nbformat_minor": 5
}
