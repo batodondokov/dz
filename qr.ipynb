{
 "cells": [
  {
   "cell_type": "markdown",
   "id": "45240b16-9ea1-416e-97b9-0855afd5279c",
   "metadata": {},
   "source": [
    "# Задание по теме «QR-разложение»"
   ]
  },
  {
   "cell_type": "markdown",
   "id": "e8fa4460-5ecc-49b1-a0c5-86c8b8742739",
   "metadata": {},
   "source": [
    "## Задание 1"
   ]
  },
  {
   "cell_type": "markdown",
   "id": "ed8baaf7-b34f-4e95-9fd8-617f02f394bb",
   "metadata": {},
   "source": [
    "1\\. Варианты заданий возьмите в Задании по теме «Решение систем линейных алгебраических уравнений»\n",
    "Для Вашей матрицы постройте QR-разложение методом вращений Гивенса ИЛИ методом отражений Хаусхолдера (можно даже по алгоритму Грамма-Шмидта). Проверьте, что A=QR, Q – ортогональная матрица и определитель Q равен 1. Найдите определитель матрицы А, используя данное разложение. Найдите решение системы Ax=b, используя данное разложение. "
   ]
  },
  {
   "cell_type": "markdown",
   "id": "6f40f0f7-3dea-43cf-ac95-efb3ffb0c16a",
   "metadata": {},
   "source": [
    "Вариант 2. Задаю матрицу А и вектор b."
   ]
  },
  {
   "cell_type": "code",
   "execution_count": 1,
   "id": "e6750f22-fb6c-4fef-842d-38dfa3810a38",
   "metadata": {},
   "outputs": [],
   "source": [
    "import numpy as np\n",
    "\n",
    "A = np.array([[-3, 0.5, 0.5],\n",
    "              [0.5, -6, 0.5],\n",
    "              [0.5, 0.5, -3]])\n",
    "B = np.array([-56.5, 100, -210])"
   ]
  },
  {
   "cell_type": "markdown",
   "id": "51fba590-ca9c-4e87-9c83-42d5b3554627",
   "metadata": {},
   "source": [
    "Создал функцию для нахождения матрицы Q и R по алгоритму Грамма-Шмидта\n",
    "$$u_1 = a_1,$$\n",
    "$$u_k = a_k - \\sum_{j=1}^{k-1} \\text{proj}_{u_j}(a_k),$$\n",
    "$$\\text{proj}_{u_j}(a_k) = \\frac{\\langle a_k, u_j \\rangle}{\\langle u_j, u_j \\rangle} u_j,$$\n",
    "$$q_k = \\frac{u_k}{\\|u_k\\|},$$\n",
    "$$Q = [q_1 \\ q_2 \\ \\ldots \\ q_n],$$\n",
    "$$R = Q^\\top A$$"
   ]
  },
  {
   "cell_type": "code",
   "execution_count": 2,
   "id": "b4b55c46-976a-4a09-99fe-633e536be926",
   "metadata": {},
   "outputs": [],
   "source": [
    "def find_qr(A):\n",
    "    n, m = A.shape\n",
    "    Q = np.empty((n, n))\n",
    "    u = np.empty((n, n))\n",
    "\n",
    "    u[:, 0] = A[:, 0]\n",
    "    Q[:, 0] = u[:, 0] / np.linalg.norm(u[:, 0])\n",
    "\n",
    "    for i in range(1, n):\n",
    "        u[:, i] = A[:, i]\n",
    "        for j in range(i):\n",
    "            u[:, i] -= (A[:, i] @ Q[:, j]) * Q[:, j]\n",
    "        Q[:, i] = u[:, i] / np.linalg.norm(u[:, i])\n",
    "        \n",
    "    R = np.zeros((n, m))\n",
    "    for i in range(n):\n",
    "        for j in range(i, m):\n",
    "            R[i, j] = A[:, j] @ Q[:, i]\n",
    "    return Q, R"
   ]
  },
  {
   "cell_type": "markdown",
   "id": "8cf72145-3f22-4089-91a1-f8f217f25616",
   "metadata": {},
   "source": [
    "Нахожу матрицы Q и R. Проверяю что A=QR."
   ]
  },
  {
   "cell_type": "code",
   "execution_count": 3,
   "id": "8c136740-5b75-47a7-8070-d649586b41a4",
   "metadata": {},
   "outputs": [
    {
     "name": "stdout",
     "output_type": "stream",
     "text": [
      "Q:\n",
      "[[-0.97332853 -0.14316491 -0.17926346]\n",
      " [ 0.16222142 -0.98202182 -0.09652648]\n",
      " [ 0.16222142  0.12303235 -0.97905426]]\n",
      "R:\n",
      "[[ 3.082207   -1.37888208 -0.89221782]\n",
      " [ 0.          5.88206462 -0.9316904 ]\n",
      " [ 0.          0.          2.79926783]]\n",
      "QR:\n",
      "[[-3.   0.5  0.5]\n",
      " [ 0.5 -6.   0.5]\n",
      " [ 0.5  0.5 -3. ]]\n",
      "A:\n",
      "[[-3.   0.5  0.5]\n",
      " [ 0.5 -6.   0.5]\n",
      " [ 0.5  0.5 -3. ]]\n"
     ]
    }
   ],
   "source": [
    "Q,R = find_qr(A.copy())\n",
    "print('Q:')\n",
    "print(Q)\n",
    "print('R:')\n",
    "print(R)\n",
    "print('QR:')\n",
    "print(Q @ R)\n",
    "print('A:')\n",
    "print(A)"
   ]
  },
  {
   "cell_type": "markdown",
   "id": "41ee08ed-803e-4dbd-9ef5-ff3f2aa1b4b6",
   "metadata": {},
   "source": [
    "Проверяю, что Q - ортогональная матрица.\n",
    "$$Q^TQ=I,$$\n",
    "$$|det(Q)=1|.$$"
   ]
  },
  {
   "cell_type": "code",
   "execution_count": 8,
   "id": "027c909b-2def-4ed3-81cf-b03cfa241fca",
   "metadata": {},
   "outputs": [
    {
     "name": "stdout",
     "output_type": "stream",
     "text": [
      "Q^T*Q:\n",
      "[[ 1.00000000e+00 -9.37110595e-18  4.06061511e-17]\n",
      " [-9.37110595e-18  1.00000000e+00  4.67689379e-17]\n",
      " [ 4.06061511e-17  4.67689379e-17  1.00000000e+00]]\n",
      "Модуль определителя матрицы Q: 1.0\n"
     ]
    }
   ],
   "source": [
    "print('Q^T*Q:')\n",
    "print(Q.transpose() @ Q)\n",
    "print('Модуль определителя матрицы Q:', np.abs(np.linalg.det(Q)))"
   ]
  },
  {
   "cell_type": "markdown",
   "id": "92884802-7047-44fc-ae4d-91f319218c98",
   "metadata": {},
   "source": [
    "Нахожу определитель матрицы A  по свойству: det(A) = det(Q) * det(R). Так как матрица R верхнаяя треугольная, можно найти определитель через произведение элементов ее главной диагонали.\n",
    "\n",
    "\n",
    "Проверяю найденный определитель с результатом готовой функции для нахождения определителя."
   ]
  },
  {
   "cell_type": "code",
   "execution_count": 10,
   "id": "c269d4f4-7a1d-4139-b57e-b96f9ccb44fc",
   "metadata": {},
   "outputs": [
    {
     "name": "stdout",
     "output_type": "stream",
     "text": [
      "det(A) = det(Q) * det(R) = -50.75000000000001\n",
      "Определитель матрицы A: -50.74999999999998\n"
     ]
    }
   ],
   "source": [
    "print('det(A) = det(Q) * det(R) =', np.linalg.det(Q) * (R[0][0] * R[1][1] * R[2][2]))\n",
    "print('Определитель матрицы A:', np.linalg.det(A))"
   ]
  },
  {
   "cell_type": "markdown",
   "id": "ac00bc48-2792-4503-b6df-dbac4079dafe",
   "metadata": {},
   "source": [
    "Определил функцию для решения системы Ax=b, используя данное разложение:\n",
    "$$y=Q^TB$$\n",
    "$$Rx=y$$"
   ]
  },
  {
   "cell_type": "code",
   "execution_count": 11,
   "id": "a66ba5f1-d827-46b9-b39b-fbed6af6e5e5",
   "metadata": {},
   "outputs": [],
   "source": [
    "def find_x(A, B, Q, R):\n",
    "    y = Q.transpose() @ B\n",
    "    x = np.zeros(R.shape[0])\n",
    "    for i in range(x.shape[0]-1, -1, -1):\n",
    "        x[i] = (y[i] - (R[i, i+1:] @ x[i+1:])) / R[i, i]\n",
    "    return x"
   ]
  },
  {
   "cell_type": "markdown",
   "id": "b66b925a-c2d7-46a1-b8c4-76dfd818941b",
   "metadata": {},
   "source": [
    "Проверяю полученное решение с решением встроенной фукнции."
   ]
  },
  {
   "cell_type": "code",
   "execution_count": 13,
   "id": "6f169508-5421-4539-8de7-561188a14352",
   "metadata": {},
   "outputs": [
    {
     "name": "stdout",
     "output_type": "stream",
     "text": [
      "x:  [29.76108374 -8.05172414 73.6182266 ]\n",
      "Решение встроенной функции: [29.76108374 -8.05172414 73.6182266 ]\n"
     ]
    }
   ],
   "source": [
    "print('x: ', find_x(A, B, Q, R))\n",
    "print('Решение встроенной функции:', np.linalg.solve(A, B))"
   ]
  },
  {
   "cell_type": "markdown",
   "id": "52590553-622e-495a-8bf2-e65b112d4176",
   "metadata": {},
   "source": [
    "## Задание 2"
   ]
  },
  {
   "cell_type": "markdown",
   "id": "2b193e71-dc00-4ed4-b387-1c02078a5935",
   "metadata": {},
   "source": [
    "2\\. Варианты заданий возьмите в Задании по теме «Решение систем с симметрической матрицей методом Холецкого». Приведите симметрическую матрицу А к трехдиагональному виду методом вращений Гивенса ИЛИ методом отражений Хаусхолдера. Напишите, для чего применяется сведение матриц к трехдиагональной форме."
   ]
  },
  {
   "cell_type": "markdown",
   "id": "4ae63664-e01e-4260-af1d-649088261d37",
   "metadata": {},
   "source": [
    "Вариант 2. Задаю матрицу А"
   ]
  },
  {
   "cell_type": "code",
   "execution_count": 14,
   "id": "67a28138-f0be-46e7-be3f-077fb1ffebd5",
   "metadata": {},
   "outputs": [],
   "source": [
    "A = np.array([\n",
    "    [3.14, -2.12, 1.17],\n",
    "    [-2.12, 1.32, -2.45],\n",
    "    [1.17, -2.45, 1.18]\n",
    "])"
   ]
  },
  {
   "cell_type": "markdown",
   "id": "aedcc58c-48b0-45e0-9fe2-6d4d948a4e63",
   "metadata": {},
   "source": [
    "Нахожу матрицу вращений, где:\n",
    "$$t_{ii}=t_{jj}=c;\\ t_{ij}=s,\\ t_{ji}=-s,$$\n",
    "$$c=\\frac{a_{i-1,i}}{\\sqrt{a^2_{i-1,i} + a^2_{i-1,j}}},$$\n",
    "$$s=-\\frac{a_{i-1,j}}{\\sqrt{a^2_{i-1,i} + a^2_{i-1,j}}},$$\n",
    "Затем применяю матрицу вращений по формуле:\n",
    "$$A_k = T^T_{ij}*A_{k-1}*T_{ij}$$\n",
    "где: $$i = 1,2..n-1;\\ j = i+1, i+2,...n;\\ k=1,2,..N; $$\n",
    "$$A_0=A;\\ T_{ij} - матрица\\ вращения.$$\n",
    "n - размерность матрицы, N - количество шагов (элементов, которые нужно занулить)."
   ]
  },
  {
   "cell_type": "code",
   "execution_count": 15,
   "id": "2b0ab2eb-44cc-43f7-8f35-e4263eb9caa7",
   "metadata": {},
   "outputs": [
    {
     "name": "stdout",
     "output_type": "stream",
     "text": [
      "Оригинальная матрица:\n",
      " [[ 3.14 -2.12  1.17]\n",
      " [-2.12  1.32 -2.45]\n",
      " [ 1.17 -2.45  1.18]]\n",
      "Трехдиагональная матрица:\n",
      " [[ 3.14000000e+00  2.42142520e+00 -8.43401833e-17]\n",
      " [ 2.42142520e+00  3.36020159e+00 -1.24677554e+00]\n",
      " [-8.43401833e-17 -1.24677554e+00 -8.60201593e-01]]\n"
     ]
    }
   ],
   "source": [
    "n = A.shape[0]\n",
    "A_copy = A.copy()\n",
    "\n",
    "def find_tridiagonal(A, n):\n",
    "    for i in range(1, n - 1):\n",
    "        for j in range(i + 1, n):\n",
    "            T = np.eye(n)\n",
    "            c = A[i-1][i] / np.sqrt(A[i-1][i]**2 + A[i-1][j]**2)\n",
    "            s = -A[i-1][j] / np.sqrt(A[i-1][i]**2 + A[i-1][j]**2)\n",
    "            T[i][i] = T[j][j] = c\n",
    "            T[i][j] = s\n",
    "            T[j][i] = -s\n",
    "            A = T.transpose() @ A @ T\n",
    "    return(A)\n",
    "\n",
    "print('Оригинальная матрица:\\n', A)\n",
    "print('Трехдиагональная матрица:\\n', find_tridiagonal(A_copy, n))"
   ]
  },
  {
   "cell_type": "markdown",
   "id": "c97e4686-96b2-45a5-9470-e80bd157a6e4",
   "metadata": {},
   "source": [
    "Применяю функцию на матрицу большей размерности:"
   ]
  },
  {
   "cell_type": "code",
   "execution_count": 16,
   "id": "9c3936ca-0edd-4461-bea7-8660fd4706a9",
   "metadata": {},
   "outputs": [
    {
     "name": "stdout",
     "output_type": "stream",
     "text": [
      "Оригинальная матрица:\n",
      " [[-2. -3.  1.  1.]\n",
      " [-3.  1.  2.  0.]\n",
      " [ 1.  2. -1. -3.]\n",
      " [ 1.  0. -3. -2.]]\n",
      "Трехдиагональная матрица:\n",
      " [[-2.00000000e+00  3.31662468e+00  2.74945961e-08  1.14989394e-08]\n",
      " [ 3.31662468e+00 -1.09090912e+00  3.20381988e+00 -2.32262974e-17]\n",
      " [ 2.74945961e-08  3.20381988e+00 -1.31408286e+00  2.04818929e+00]\n",
      " [ 1.14989394e-08 -2.32262974e-17  2.04818929e+00  4.04991981e-01]]\n"
     ]
    }
   ],
   "source": [
    "A_big = np.array([\n",
    "    [-2, -3, 1, 1],\n",
    "    [-3, 1, 2, 0],\n",
    "    [1, 2, -1, -3],\n",
    "    [1, 0 ,-3, -2]\n",
    "], dtype='float32')\n",
    "A_big_copy = A_big.copy()\n",
    "n_big = A_big_copy.shape[0]\n",
    "print('Оригинальная матрица:\\n', A_big)\n",
    "print('Трехдиагональная матрица:\\n', find_tridiagonal(A_big_copy, n_big))             "
   ]
  },
  {
   "cell_type": "markdown",
   "id": "3771338a-73c9-4dc9-846e-58b5c1399fb4",
   "metadata": {},
   "source": [
    "Сведение матриц к трехдиагональной форме применяется для:\n",
    "- Вычисления собственных значений и векторов;\n",
    "- Решения систем линейных уравнений;\n",
    "- Спектрального анализа матриц.\n",
    "\n",
    "Оно значительно ускоряет вычисления за счет упрощения структуры матрицы. Также трехдиагональная форма обеспечивает высокую эффективность и устойчивость расчетов."
   ]
  }
 ],
 "metadata": {
  "kernelspec": {
   "display_name": "Python 3 (ipykernel)",
   "language": "python",
   "name": "python3"
  },
  "language_info": {
   "codemirror_mode": {
    "name": "ipython",
    "version": 3
   },
   "file_extension": ".py",
   "mimetype": "text/x-python",
   "name": "python",
   "nbconvert_exporter": "python",
   "pygments_lexer": "ipython3",
   "version": "3.12.4"
  }
 },
 "nbformat": 4,
 "nbformat_minor": 5
}
